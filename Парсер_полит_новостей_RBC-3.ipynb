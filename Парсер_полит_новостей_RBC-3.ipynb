{
  "cells": [
    {
      "cell_type": "code",
      "source": [
        "!pip install pymorphy2"
      ],
      "metadata": {
        "colab": {
          "base_uri": "https://localhost:8080/"
        },
        "id": "pIXcReg0E4oS",
        "outputId": "24a45f83-cb5e-4af7-a7e3-08ac5044d5b9"
      },
      "id": "pIXcReg0E4oS",
      "execution_count": null,
      "outputs": [
        {
          "output_type": "stream",
          "name": "stdout",
          "text": [
            "Requirement already satisfied: pymorphy2 in /usr/local/lib/python3.10/dist-packages (0.9.1)\n",
            "Requirement already satisfied: dawg-python>=0.7.1 in /usr/local/lib/python3.10/dist-packages (from pymorphy2) (0.7.2)\n",
            "Requirement already satisfied: pymorphy2-dicts-ru<3.0,>=2.4 in /usr/local/lib/python3.10/dist-packages (from pymorphy2) (2.4.417127.4579844)\n",
            "Requirement already satisfied: docopt>=0.6 in /usr/local/lib/python3.10/dist-packages (from pymorphy2) (0.6.2)\n"
          ]
        }
      ]
    },
    {
      "cell_type": "code",
      "execution_count": null,
      "id": "f2984f28-6cff-44c0-a7e7-4a4b33ab2b69",
      "metadata": {
        "id": "f2984f28-6cff-44c0-a7e7-4a4b33ab2b69"
      },
      "outputs": [],
      "source": [
        "import requests\n",
        "import csv\n",
        "from bs4 import BeautifulSoup\n",
        "import pandas as pd\n",
        "import pymorphy2"
      ]
    },
    {
      "cell_type": "code",
      "execution_count": null,
      "id": "aa1aa59f-3130-4cab-b593-d96623da4c6a",
      "metadata": {
        "id": "aa1aa59f-3130-4cab-b593-d96623da4c6a"
      },
      "outputs": [],
      "source": [
        "url = \"https://www.rbc.ru/politics/\"\n",
        "st_accept = \"text/html\"\n",
        "headers = {\n",
        "   \"Accept\": st_accept\n",
        "}"
      ]
    },
    {
      "cell_type": "code",
      "execution_count": null,
      "id": "cb5cdc64-4586-4bb0-81cf-01d12f890fca",
      "metadata": {
        "id": "cb5cdc64-4586-4bb0-81cf-01d12f890fca"
      },
      "outputs": [],
      "source": [
        "req = requests.get(url, headers)\n",
        "html_content = req.text\n",
        "# запись html страницы\n",
        "with open('file_rbc.html', 'w', encoding=\"utf-8\") as file:\n",
        "    file.write(req.text)"
      ]
    },
    {
      "cell_type": "code",
      "execution_count": null,
      "id": "328edbb5-2c59-4b93-afd8-148ca744c0aa",
      "metadata": {
        "colab": {
          "base_uri": "https://localhost:8080/"
        },
        "id": "328edbb5-2c59-4b93-afd8-148ca744c0aa",
        "outputId": "6d2453e5-bd30-4da8-d7d5-168349e791c5"
      },
      "outputs": [
        {
          "output_type": "stream",
          "name": "stdout",
          "text": [
            "[{'title': 'США ввели санкции против Мосбиржи, проектов СПГ и ИТ. Главное '}, {'title': 'Мосбиржа прекратит торги долларом и евро из-за санкций. Спецэфир РБК '}, {'title': 'Полиция применила светошумовые гранаты против протестующих в Армении '}, {'title': 'МИД Армении назвал ошибочной трактовку слов Пашиняна о выходе из ОДКБ '}, {'title': 'США ввели санкции против Мосбиржи и НКЦ\\u2060 '}, {'title': 'Фрегат «Адмирал Горшков» и подлодка «Казань» прибыли на Кубу '}, {'title': 'Пашинян объявил, что Армения выйдет из ОДКБ\\u2060 '}, {'title': 'Глава Минобороны Словакии счел госизменой передачу Украине МиГ-29 '}, {'title': 'В Белоруссии заявили о готовности к применению ядерного оружия '}, {'title': 'Венгрия отказалась участвовать в миссии НАТО по Украине '}, {'title': 'Военные ударили «Искандером-М» по украинскому дивизиону С-300. Видео '}, {'title': 'В МИД заявили о контроле ситуации с задержанной в Дании россиянкой '}, {'title': 'Российские миротворцы покинули Нагорный Карабах '}, {'title': 'Глава МИД Кубы выступил за дипломатическое решение конфликта на Украине '}, {'title': 'Минобороны сообщило о групповом ударе по стоянкам самолетов ВСУ '}, {'title': 'FT узнала о планах США ужесточить указ о вторичных санкциях из-за России '}, {'title': 'В МИД России вызывали посла Австрии для выяснения претензий Вены '}, {'title': 'Лукашенко и Пашинян поздравили Путина и россиян с Днем России '}, {'title': 'Суд ЕС отклонил ходатайство ВЭБа об отмене санкций '}, {'title': 'Жительница Шебекино получила ранения в результате обстрела '}]\n"
          ]
        }
      ],
      "source": [
        "soup = BeautifulSoup(html_content, \"html.parser\")\n",
        "elements = soup.find_all(\"span\", class_=\"item__title rm-cm-item-text js-rm-central-column-item-text\")\n",
        "# print(elements)\n",
        "\n",
        "raw = []\n",
        "for element in elements:\n",
        "    raw.append(\n",
        "        {\n",
        "        \"title\":element.get_text(),\n",
        "        }\n",
        "    )\n",
        "news = [{'title': item['title'].replace('\\n', '')} for item in raw]\n",
        "print(news)"
      ]
    },
    {
      "cell_type": "code",
      "execution_count": null,
      "id": "9066edaa-a598-4b28-8c4b-1d75844f15b4",
      "metadata": {
        "id": "9066edaa-a598-4b28-8c4b-1d75844f15b4"
      },
      "outputs": [],
      "source": [
        "# politics_news_rbc - промежуточная \"свалка\" всех заголовков, файл не удаляется чтобы избежать промежуточных потерь и дубликатов\n",
        "with open('politics_news_rbc.csv', 'a', newline='') as file:\n",
        "    writer = csv.writer(file, delimiter=',')\n",
        "    writer.writerow(['title'])\n",
        "    for item in news:\n",
        "        writer.writerow([item['title']])"
      ]
    },
    {
      "cell_type": "code",
      "execution_count": null,
      "id": "422c7737-b480-4451-930f-2d790ced10ad",
      "metadata": {
        "id": "422c7737-b480-4451-930f-2d790ced10ad"
      },
      "outputs": [],
      "source": [
        "df = pd.read_csv('politics_news_rbc.csv')\n",
        "# удаление дуликатов новостей\n",
        "df.drop_duplicates(inplace=True)\n",
        "df.to_csv('unique.csv', index=False)\n",
        "# полученный файл содержит все уникальные заголовки, знаки убраны на этом этапе для удобства дальнейшего использования"
      ]
    }
  ],
  "metadata": {
    "kernelspec": {
      "display_name": "Python 3 (ipykernel)",
      "language": "python",
      "name": "python3"
    },
    "language_info": {
      "codemirror_mode": {
        "name": "ipython",
        "version": 3
      },
      "file_extension": ".py",
      "mimetype": "text/x-python",
      "name": "python",
      "nbconvert_exporter": "python",
      "pygments_lexer": "ipython3",
      "version": "3.12.3"
    },
    "colab": {
      "provenance": []
    }
  },
  "nbformat": 4,
  "nbformat_minor": 5
}