{
  "nbformat": 4,
  "nbformat_minor": 0,
  "metadata": {
    "colab": {
      "provenance": []
    },
    "kernelspec": {
      "name": "python3",
      "display_name": "Python 3"
    },
    "language_info": {
      "name": "python"
    }
  },
  "cells": [
    {
      "cell_type": "code",
      "execution_count": null,
      "metadata": {
        "id": "je4cI1Br0R6l"
      },
      "outputs": [],
      "source": [
        "import pandas as pd\n",
        "import numpy as np\n",
        "from sklearn.feature_extraction.text import TfidfVectorizer\n",
        "from sklearn.metrics.pairwise import cosine_similarity\n",
        "\n",
        "# чтение файла с заголовками новостей\n",
        "news_titles = pd.read_csv('unique.csv', header=None, names=['title'])\n",
        "\n",
        "# нормализация заголовков\n",
        "news_titles['title'] = news_titles['title'].apply(lambda x: x.lower())\n",
        "news_titles['title'] = news_titles['title'].apply(lambda x: x.replace(r'\\W+', ' ').replace(r'\\d+', ''))\n",
        "\n",
        "# создание объекта для вычисления TF-IDF\n",
        "vectorizer = TfidfVectorizer()\n",
        "\n",
        "# преобразование заголовков в матрицу TF-IDF\n",
        "tfidf_matrix = vectorizer.fit_transform(news_titles['title'])\n",
        "\n",
        "# вычисление косинусной схожести между заголовками\n",
        "similarity_matrix = cosine_similarity(tfidf_matrix)\n",
        "\n",
        "# функция для рекомендации похожих новостей\n",
        "def find_similar_news(title, num_similar=5):\n",
        "    # нормализация целевого заголовка\n",
        "    title = title.lower()\n",
        "    title = title.replace(r'\\W+', ' ').replace(r'\\d+', '')\n",
        "\n",
        "    # вычисление TF-IDF для целевого заголовка\n",
        "    title_tfidf = vectorizer.transform([title])\n",
        "\n",
        "    # вычисление косинусной схожести с другими заголовками\n",
        "    similarities = cosine_similarity(title_tfidf, tfidf_matrix)\n",
        "\n",
        "    # возвращение индексов похожих новостей\n",
        "    similar_indices = np.argsort(-similarities[0])[:num_similar]\n",
        "\n",
        "    for i, index in enumerate(similar_indices):\n",
        "      print(f\"{news_titles.iloc[index]['title']} ({similarities[0][index]})\")\n"
      ]
    },
    {
      "cell_type": "code",
      "source": [
        "t1 = 'Макрон объявил о роспуске Нацсобрания и назначил досрочные выборы'\n",
        "\n",
        "t2 = 'Макрон назвал дату открытия отреставрированного Нотр-Дама'\n",
        "\n",
        "t3 = 'Сестра Ким Чен Ына предупредила Сеул о риске эскалации «мусорной войны»'\n",
        "\n",
        "t4 = 'В МИД России вызывали посла Австрии для выяснения претензий Вены'\n",
        "\n",
        "t5 = 'Гладков предупредил жителей Белгородской области о «сложной опасности»'"
      ],
      "metadata": {
        "id": "h68GDLo52ncA"
      },
      "execution_count": null,
      "outputs": []
    },
    {
      "cell_type": "code",
      "source": [
        "similar_news1 = find_similar_news(t1)"
      ],
      "metadata": {
        "colab": {
          "base_uri": "https://localhost:8080/"
        },
        "id": "QUS0SPhxNWRV",
        "outputId": "90ea49b4-3cca-485f-d2e2-1a8fede7ca2a"
      },
      "execution_count": null,
      "outputs": [
        {
          "output_type": "stream",
          "name": "stdout",
          "text": [
            "пашинян объявил, что армения выйдет из одкб⁠  (0.26702240112421244)\n",
            "«единая россия» выдвинула беглова на выборы губернатора санкт-петербурга  (0.2561106891259724)\n",
            "глава республики алтай олег хорохордин объявил об отставке  (0.25090041638994104)\n",
            "захарова напомнила о конституции сша из-за ситуации со скоттом риттером  (0.0)\n",
            "на украине объяснили таран велосипедиста машиной эмоциями работников тцк  (0.0)\n"
          ]
        }
      ]
    },
    {
      "cell_type": "code",
      "source": [
        "similar_news2 = find_similar_news(t2)"
      ],
      "metadata": {
        "colab": {
          "base_uri": "https://localhost:8080/"
        },
        "id": "YqBVJSMfNZdO",
        "outputId": "7de82720-60c8-4a33-eaa2-0e79c170f586"
      },
      "execution_count": null,
      "outputs": [
        {
          "output_type": "stream",
          "name": "stdout",
          "text": [
            "финляндия рассмотрит вопрос открытия сайменского канала в ближайшее время  (0.28286456179911323)\n",
            "финляндия рассмотрит вопрос открытия канала в россию в ближайшее время  (0.28286456179911323)\n",
            "посол ламбсдорфф назвал огромным интерес к россии в германии  (0.1719085588919363)\n",
            "володин назвал мирный саммит в швейцарии «ангажированной сходкой»  (0.16825843430124796)\n",
            "президент филиппин назвал главное качество урегулирования на украине  (0.16447198125753978)\n"
          ]
        }
      ]
    },
    {
      "cell_type": "code",
      "source": [
        "similar_news3 = find_similar_news(t3)"
      ],
      "metadata": {
        "colab": {
          "base_uri": "https://localhost:8080/"
        },
        "id": "rSLYU7xINatj",
        "outputId": "5dc77641-dac3-4ce9-f56e-0c4682e5fd5b"
      },
      "execution_count": null,
      "outputs": [
        {
          "output_type": "stream",
          "name": "stdout",
          "text": [
            "шольц оценил угрозу эскалации при ударах по россии немецким оружием  (0.26186515742550004)\n",
            "зеленский пообещал сделать все ради прекращения войны в секторе газа  (0.22349281888861255)\n",
            "глава штаба обороны британии отверг неизбежность третьей мировой войны  (0.21926384008682423)\n",
            "на украине объяснили таран велосипедиста машиной эмоциями работников тцк  (0.0)\n",
            "миссия россии в оон показала дипломатам «сказку о царе салтане»  (0.0)\n"
          ]
        }
      ]
    },
    {
      "cell_type": "code",
      "source": [
        "similar_news4 = find_similar_news(t4)"
      ],
      "metadata": {
        "colab": {
          "base_uri": "https://localhost:8080/"
        },
        "id": "LE0kj_eSNdPC",
        "outputId": "41d58ce5-8553-4253-9ce4-782eeb36d372"
      },
      "execution_count": null,
      "outputs": [
        {
          "output_type": "stream",
          "name": "stdout",
          "text": [
            "в мид россии вызывали посла австрии для выяснения претензий вены  (1.0000000000000002)\n",
            "посла китая в иране вызвали в мид из-за позиции по спорным островам  (0.17166206859564714)\n",
            "лавров назвал французских военных на украине законной целью для россии  (0.11904160709038511)\n",
            "делимханов пообещал даванкову объяснить дресс-код для женщин в россии  (0.11639992167618271)\n",
            "нидерланды не стали запрещать использование f-16 для ударов всу по россии  (0.10780680472913312)\n"
          ]
        }
      ]
    },
    {
      "cell_type": "code",
      "source": [
        "similar_news5 = find_similar_news(t5)"
      ],
      "metadata": {
        "colab": {
          "base_uri": "https://localhost:8080/"
        },
        "id": "p1o43BzXPpaB",
        "outputId": "27ded50d-c60f-419b-da08-cf902f7cfbc6"
      },
      "execution_count": null,
      "outputs": [
        {
          "output_type": "stream",
          "name": "stdout",
          "text": [
            "в белгородской области уничтожили беспилотник  (0.36677277610218584)\n",
            "в белгородской области объявили опасность атаки дронов  (0.3210046197117859)\n",
            "губернатор рассказал о последствиях обстрела белгородской области  (0.31228851772248367)\n",
            "в белгородской области на автобусах установят защиту от дронов  (0.26294864645240057)\n",
            "в белгородской области погиб водитель атакованного дроном автомобиля  (0.2612318194523571)\n"
          ]
        }
      ]
    }
  ]
}