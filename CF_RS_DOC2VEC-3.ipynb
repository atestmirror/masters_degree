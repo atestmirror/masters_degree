{
  "nbformat": 4,
  "nbformat_minor": 0,
  "metadata": {
    "colab": {
      "provenance": []
    },
    "kernelspec": {
      "name": "python3",
      "display_name": "Python 3"
    },
    "language_info": {
      "name": "python"
    }
  },
  "cells": [
    {
      "cell_type": "code",
      "execution_count": null,
      "metadata": {
        "id": "NRMW1hSNMuF5"
      },
      "outputs": [],
      "source": [
        "import pandas as pd\n",
        "from gensim.models import Doc2Vec\n",
        "from gensim.models.doc2vec import TaggedDocument\n",
        "\n",
        "# загрузка csv-файла\n",
        "df = pd.read_csv('unique.csv')\n",
        "\n",
        "# предобработка данных\n",
        "def preprocess_text(text):\n",
        "    df['title'] = df['title'].apply(lambda x: x.lower())\n",
        "    df['title'] = df['title'].apply(lambda x: x.replace(r'\\W+', ' ').replace(r'\\d+', ''))\n",
        "\n",
        "    return text\n",
        "\n",
        "df['title'] = df['title'].apply(preprocess_text)\n",
        "\n",
        "# обучение модели doc2vec\n",
        "tagged_data = [TaggedDocument(words=doc.split(), tags=[str(i)]) for i, doc in enumerate(df['title'])]\n",
        "model = Doc2Vec(tagged_data, vector_size=100, window=5, min_count=1, workers=4)\n",
        "\n",
        "# генерация эмбеддингов\n",
        "embeddings = []\n",
        "for i, doc in enumerate(df['title']):\n",
        "    embeddings.append(model.infer_vector(doc.split()))\n",
        "\n",
        "# функция генерации рекомендаций по заголовку\n",
        "def get_recommendations(sample_header):\n",
        "    # предобработка заголовка\n",
        "    sample_header = preprocess_text(sample_header)\n",
        "    sample_header_embedding = model.infer_vector(sample_header.split())\n",
        "\n",
        "    # вычисление косинусное сходство с другими заголовками\n",
        "    similarities = []\n",
        "    for i, header in enumerate(df['title']):\n",
        "        header_embedding = embeddings[i]\n",
        "        similarity = cosine_similarity([sample_header_embedding], [header_embedding])[0][0]\n",
        "        similarities.append((header, similarity))\n",
        "\n",
        "    # сортировка рекомендаций в нисходящем порядке\n",
        "    sorted_similarities = sorted(similarities, key=lambda x: x[1], reverse=True)\n",
        "\n",
        "    # возврат 5 рекомендаций\n",
        "    return [(header, similarity) for header, similarity in sorted_similarities[:5]]"
      ]
    },
    {
      "cell_type": "code",
      "source": [
        "t1 = 'Макрон объявил о роспуске Нацсобрания и назначил досрочные выборы'\n",
        "\n",
        "t2 = 'Макрон назвал дату открытия отреставрированного Нотр-Дама'\n",
        "\n",
        "t3 = 'Сестра Ким Чен Ына предупредила Сеул о риске эскалации «мусорной войны»'\n",
        "\n",
        "t4 = 'В МИД России вызывали посла Австрии для выяснения претензий Вены'\n",
        "\n",
        "t5 = 'Гладков предупредил жителей Белгородской области о «сложной опасности»'"
      ],
      "metadata": {
        "id": "KIJ4CgcYSXSv"
      },
      "execution_count": null,
      "outputs": []
    },
    {
      "cell_type": "code",
      "source": [
        "recommendations = get_recommendations(t1)\n",
        "\n",
        "print(f\"Рекомендации по запросу '{t1}':\")\n",
        "for i, (headline, score) in enumerate(recommendations, start=1):\n",
        "    print(f\"{i}. {headline} (score: {score})\")"
      ],
      "metadata": {
        "colab": {
          "base_uri": "https://localhost:8080/"
        },
        "id": "FsR9JrpGRFQe",
        "outputId": "b5ef400f-576c-4d3f-e87a-03de3d7ee4d0"
      },
      "execution_count": null,
      "outputs": [
        {
          "output_type": "stream",
          "name": "stdout",
          "text": [
            "Рекомендации по запросу 'Макрон объявил о роспуске Нацсобрания и назначил досрочные выборы':\n",
            "1. bloomberg назвал целью саммита в швейцарии вовлечение россии в переговоры  (score: 0.21420714259147644)\n",
            "2. мид сообщил, что россии не нравится отношение талибов к женщинам  (score: 0.18457981944084167)\n",
            "3. nbc узнал о 8 задержанных в сша за связи с иг граждан таджикистана  (score: 0.18085351586341858)\n",
            "4. адвокат назвал условия возращения иванову арестованного имущества  (score: 0.1731259673833847)\n",
            "5. делимханов пообещал даванкову объяснить дресс-код женщин в россии  (score: 0.16852284967899323)\n"
          ]
        }
      ]
    },
    {
      "cell_type": "code",
      "source": [
        "recommendations = get_recommendations(t2)\n",
        "\n",
        "print(f\"Рекомендации по запросу '{t2}':\")\n",
        "for i, (headline, score) in enumerate(recommendations, start=1):\n",
        "    print(f\"{i}. {headline} (score: {score})\")"
      ],
      "metadata": {
        "colab": {
          "base_uri": "https://localhost:8080/"
        },
        "id": "r6VnmYXqSasv",
        "outputId": "8fb88490-d230-4606-93e6-bec1a0ed548c"
      },
      "execution_count": null,
      "outputs": [
        {
          "output_type": "stream",
          "name": "stdout",
          "text": [
            "Рекомендации по запросу 'Макрон назвал дату открытия отреставрированного Нотр-Дама':\n",
            "1. белый дом заявил о нежелании байдена провоцировать третью мировую войну  (score: 0.2916637659072876)\n",
            "2. полиция применила светошумовые гранаты против протестующих в армении  (score: 0.21431460976600647)\n",
            "3. президентом исландии стала бывший директор компании ричарда брэнсона  (score: 0.21216318011283875)\n",
            "4. трамп пообещал рассекретить документы об убийстве кеннеди  (score: 0.20463286340236664)\n",
            "5. гладков рассказал о разрушениях после атаки на окрестности белгорода  (score: 0.19379360973834991)\n"
          ]
        }
      ]
    },
    {
      "cell_type": "code",
      "source": [
        "recommendations = get_recommendations(t3)\n",
        "\n",
        "print(f\"Рекомендации по запросу '{t3}':\")\n",
        "for i, (headline, score) in enumerate(recommendations, start=1):\n",
        "    print(f\"{i}. {headline} (score: {score})\")"
      ],
      "metadata": {
        "colab": {
          "base_uri": "https://localhost:8080/"
        },
        "id": "4fApPhySSbhH",
        "outputId": "f1daa95e-eec0-43dd-a321-326a753e52b7"
      },
      "execution_count": null,
      "outputs": [
        {
          "output_type": "stream",
          "name": "stdout",
          "text": [
            "Рекомендации по запросу 'Сестра Ким Чен Ына предупредила Сеул о риске эскалации «мусорной войны»':\n",
            "1. в мид россии вызывали посла австрии для выяснения претензий вены  (score: 0.3091355264186859)\n",
            "2. глава республики алтай олег хорохордин ушел в отставку⁠  (score: 0.21613964438438416)\n",
            "3. на украине заявили об «очень-очень сильных» повреждениях днепрогэс  (score: 0.2125137597322464)\n",
            "4. военные восприняли слова макрона как разрешение ударов по регионам россии  (score: 0.20384855568408966)\n",
            "5. минобороны сообщило о попытке атаки белгородской области ракетой «нептун»  (score: 0.18214498460292816)\n"
          ]
        }
      ]
    },
    {
      "cell_type": "code",
      "source": [
        "recommendations = get_recommendations(t4)\n",
        "\n",
        "print(f\"Рекомендации по запросу '{t4}':\")\n",
        "for i, (headline, score) in enumerate(recommendations, start=1):\n",
        "    print(f\"{i}. {headline} (score: {score})\")"
      ],
      "metadata": {
        "colab": {
          "base_uri": "https://localhost:8080/"
        },
        "id": "Zwszv81NScqf",
        "outputId": "0a4244c1-e22e-45d3-ffb1-a1ffb70aa8ff"
      },
      "execution_count": null,
      "outputs": [
        {
          "output_type": "stream",
          "name": "stdout",
          "text": [
            "Рекомендации по запросу 'В МИД России вызывали посла Австрии для выяснения претензий Вены':\n",
            "1. в мид россии вызывали посла австрии для выяснения претензий вены  (score: 0.999653160572052)\n",
            "2. финляндия рассмотрит вопрос открытия сайменского канала в ближайшее время  (score: 0.29020825028419495)\n",
            "3. власти киева запретили проводить акцию в поддержку лгбт в метро  (score: 0.28546983003616333)\n",
            "4. захарова напомнила о конституции сша из-за ситуации со скоттом риттером  (score: 0.2360404133796692)\n",
            "5. почему мирный план байдена по газе может привести к уходу нетаньяху  (score: 0.21110421419143677)\n"
          ]
        }
      ]
    },
    {
      "cell_type": "code",
      "source": [
        "recommendations = get_recommendations(t5)\n",
        "\n",
        "print(f\"Рекомендации для запроса '{t5}':\")\n",
        "for i, (headline, score) in enumerate(recommendations, start=1):\n",
        "    print(f\"{i}. {headline} (score: {score})\")"
      ],
      "metadata": {
        "colab": {
          "base_uri": "https://localhost:8080/"
        },
        "id": "yqfACt4lVEZK",
        "outputId": "1b6122a1-110c-47c3-bfb4-50aca692bd2f"
      },
      "execution_count": null,
      "outputs": [
        {
          "output_type": "stream",
          "name": "stdout",
          "text": [
            "Рекомендации для запроса 'Гладков предупредил жителей Белгородской области о «сложной опасности»':\n",
            "1. офицер ввс греции прибыл в киев для обучения всу работе с f-16  (score: 0.2829465866088867)\n",
            "2. в швейцарии призвали не превращать июньский саммит в антироссийский  (score: 0.2212703824043274)\n",
            "3. мэр львова раскритиковал яркие витрины на фоне дефицита электричества  (score: 0.21281112730503082)\n",
            "4. зеленский пообещал сделать все ради прекращения войны в секторе газа  (score: 0.2060079276561737)\n",
            "5. захарова напомнила о конституции сша из-за ситуации со скоттом риттером  (score: 0.19992831349372864)\n"
          ]
        }
      ]
    }
  ]
}